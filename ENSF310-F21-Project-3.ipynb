{
 "cells": [
  {
   "cell_type": "markdown",
   "metadata": {},
   "source": [
    "# ENSF 310 Project #3\n",
    "\n",
    "## Creating an Interactive Web-based Data Visual\n",
    "\n",
    "### Due Friday, December 9th at 5pm via github.  Accepted with no late penalty until December 15th.\n",
    "\n",
    "In this project, you will combine what you have done in Project #1 with Lab #6.  Your job is take the dataset you used for Project #1 (you may choose a new dataset if you wish) and display it via an interactive website using the web server you developed as part of Lab #6.\n",
    "\n",
    "For a passing mark (80%), you will need to create a *dynamic* website that shows the the figure you generated for Project #1.  The page must:\n",
    "- show the figure, some information about the data, and the current date and time\n",
    "- use your web server from Lab #6 to display it (via a modified do_GET() method)\n",
    "- cannot be a simple .html page with your figure embeded as a static image file\n",
    "\n",
    "For a higher mark (90%), the page must (in addition to the points above):\n",
    "- have interactivity with the figure.  i.e., axes limits may be specified with a web form and a new figure is generated based on the user input.  This may be done with either POST or GET requests\n",
    "\n",
    "For a full mark (100%), the page must (in addition to the points above):\n",
    "- be visually pleasing (make it look nice)\n",
    "- be fully interactive, where the user may interact with the figure (ie, zoom) and add and remove lines or plots.\n",
    "\n",
    "You may work individually or with a partner.\n",
    "\n",
    "## Submission Guidelines\n",
    "Your submission (via github) should include:\n",
    "- A 1 to 3 minute video of a brief explanation of your page and a demonstration of the functionality if you are aiming for the 90% or higher mark (as a file or as a link to OneDrive/Sharepoint/YouTube)\n",
    "- Your well commented python code\n",
    "- A pdf printout of your page\n",
    "\n",
    "## Alternative Solution Methodologies\n",
    "You may, if you wish, explore using Plotly, Streamlit or a similar Python library instead of using your web server for Lab #6.  These packages include built-in web servers, so your job will be to (1) learn how to use the package and (2) use the package to achieve the goals of the project (ie, show data interactively).\n",
    "\n",
    "## Some Useful Resources\n",
    "- https://plotly.com/\n",
    "- https://streamlit.io/"
   ]
  },
  {
   "cell_type": "code",
   "execution_count": null,
   "metadata": {},
   "outputs": [],
   "source": []
  }
 ],
 "metadata": {
  "kernelspec": {
   "display_name": "Python 3",
   "language": "python",
   "name": "python3"
  },
  "language_info": {
   "codemirror_mode": {
    "name": "ipython",
    "version": 3
   },
   "file_extension": ".py",
   "mimetype": "text/x-python",
   "name": "python",
   "nbconvert_exporter": "python",
   "pygments_lexer": "ipython3",
   "version": "3.8.3"
  }
 },
 "nbformat": 4,
 "nbformat_minor": 2
}
